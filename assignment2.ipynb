{
 "cells": [
  {
   "cell_type": "markdown",
   "id": "df0d234f-1e1a-4495-8208-e177e7f527aa",
   "metadata": {},
   "source": [
    "Complete the exercises below For **Assignment #2**."
   ]
  },
  {
   "cell_type": "markdown",
   "id": "8b703928-3ba6-4f4d-a212-2eaeb1d5ef90",
   "metadata": {},
   "source": [
    "First, load the `Tidyverse` package which imports data visualization and wrangling libraries that we need."
   ]
  },
  {
   "cell_type": "code",
   "execution_count": 1,
   "id": "9dbc1d3b-93c7-42c4-b485-08ceb7265ae6",
   "metadata": {},
   "outputs": [
    {
     "name": "stderr",
     "output_type": "stream",
     "text": [
      "-- \u001b[1mAttaching core tidyverse packages\u001b[22m ------------------------ tidyverse 2.0.0 --\n",
      "\u001b[32mv\u001b[39m \u001b[34mdplyr    \u001b[39m 1.1.4     \u001b[32mv\u001b[39m \u001b[34mreadr    \u001b[39m 2.1.5\n",
      "\u001b[32mv\u001b[39m \u001b[34mforcats  \u001b[39m 1.0.0     \u001b[32mv\u001b[39m \u001b[34mstringr  \u001b[39m 1.5.0\n",
      "\u001b[32mv\u001b[39m \u001b[34mggplot2  \u001b[39m 3.4.2     \u001b[32mv\u001b[39m \u001b[34mtibble   \u001b[39m 3.2.1\n",
      "\u001b[32mv\u001b[39m \u001b[34mlubridate\u001b[39m 1.9.3     \u001b[32mv\u001b[39m \u001b[34mtidyr    \u001b[39m 1.3.1\n",
      "\u001b[32mv\u001b[39m \u001b[34mpurrr    \u001b[39m 1.0.2     \n",
      "-- \u001b[1mConflicts\u001b[22m ------------------------------------------ tidyverse_conflicts() --\n",
      "\u001b[31mx\u001b[39m \u001b[34mdplyr\u001b[39m::\u001b[32mfilter()\u001b[39m masks \u001b[34mstats\u001b[39m::filter()\n",
      "\u001b[31mx\u001b[39m \u001b[34mdplyr\u001b[39m::\u001b[32mlag()\u001b[39m    masks \u001b[34mstats\u001b[39m::lag()\n",
      "\u001b[36mi\u001b[39m Use the conflicted package (\u001b[3m\u001b[34m<http://conflicted.r-lib.org/>\u001b[39m\u001b[23m) to force all conflicts to become errors\n"
     ]
    }
   ],
   "source": [
    "# uncomment the code below and execute this cell\n",
    "library('tidyverse')"
   ]
  },
  {
   "cell_type": "markdown",
   "id": "491479b3-29cb-4a7f-91a8-b127515f50c4",
   "metadata": {},
   "source": [
    "If you are unable to load the `Tidyverse` package, you may not have it installed. Please refer to the assignment `README` for instructions to update your `data730` environment to include the `Tidyverse` package."
   ]
  },
  {
   "cell_type": "markdown",
   "id": "d073157d-f73b-4db8-85f3-e4fb3641dd23",
   "metadata": {},
   "source": [
    "## Data visualization"
   ]
  },
  {
   "cell_type": "markdown",
   "id": "73c5c496-4a90-4c65-93f8-e9121564e8b6",
   "metadata": {},
   "source": [
    "Let's work with the [Palmer Penguins data](https://allisonhorst.github.io/palmerpenguins/)."
   ]
  },
  {
   "cell_type": "code",
   "execution_count": 3,
   "id": "6382a53a-bcca-4111-a1e2-58aeda6ebd29",
   "metadata": {},
   "outputs": [
    {
     "name": "stdout",
     "output_type": "stream",
     "text": [
      "Rows: 344\n",
      "Columns: 8\n",
      "$ species           \u001b[3m\u001b[90m<fct>\u001b[39m\u001b[23m Adelie, Adelie, Adelie, Adelie, Adelie, Adelie, Adel~\n",
      "$ island            \u001b[3m\u001b[90m<fct>\u001b[39m\u001b[23m Torgersen, Torgersen, Torgersen, Torgersen, Torgerse~\n",
      "$ bill_length_mm    \u001b[3m\u001b[90m<dbl>\u001b[39m\u001b[23m 39.1, 39.5, 40.3, NA, 36.7, 39.3, 38.9, 39.2, 34.1, ~\n",
      "$ bill_depth_mm     \u001b[3m\u001b[90m<dbl>\u001b[39m\u001b[23m 18.7, 17.4, 18.0, NA, 19.3, 20.6, 17.8, 19.6, 18.1, ~\n",
      "$ flipper_length_mm \u001b[3m\u001b[90m<int>\u001b[39m\u001b[23m 181, 186, 195, NA, 193, 190, 181, 195, 193, 190, 186~\n",
      "$ body_mass_g       \u001b[3m\u001b[90m<int>\u001b[39m\u001b[23m 3750, 3800, 3250, NA, 3450, 3650, 3625, 4675, 3475, ~\n",
      "$ sex               \u001b[3m\u001b[90m<fct>\u001b[39m\u001b[23m male, female, female, NA, female, male, female, male~\n",
      "$ year              \u001b[3m\u001b[90m<int>\u001b[39m\u001b[23m 2007, 2007, 2007, 2007, 2007, 2007, 2007, 2007, 2007~\n"
     ]
    }
   ],
   "source": [
    "# uncomment the code below and execute this cell\n",
    "library('palmerpenguins')\n",
    "glimpse(penguins)"
   ]
  },
  {
   "cell_type": "markdown",
   "id": "34864040-9f5d-418b-8876-87f3c0fafd47",
   "metadata": {},
   "source": [
    "We now have a data frame called `penguins` available. Use this table for the following exercises."
   ]
  },
  {
   "cell_type": "markdown",
   "id": "7c5fd7a4-9d53-4791-83fc-bebe0ce85b3f",
   "metadata": {},
   "source": [
    "### Bar chart"
   ]
  },
  {
   "cell_type": "markdown",
   "id": "ea10b81d-076c-45d8-b5dd-345fcf60a1e1",
   "metadata": {},
   "source": [
    "In the cell below make a bar chart that shows how many penguins are in the data from each island. Encode the penguin species as the `fill` attribute of the bars."
   ]
  },
  {
   "cell_type": "code",
   "execution_count": 11,
   "id": "8531f480-6819-40dc-b2ae-80d9c0465189",
   "metadata": {},
   "outputs": [
    {
     "data": {
      "image/png": "[encoded data removed]",
      "text/plain": [
       "plot without title"
      ]
     },
     "metadata": {
      "image/png": {
       "height": 240,
       "width": 540
      }
     },
     "output_type": "display_data"
    }
   ],
   "source": [
    "options(repr.plot.width = 9, repr.plot.height = 4)\n",
    "\n",
    "penguins |>\n",
    "    group_by(island) |>\n",
    "    count(species) |>\n",
    "ggplot(mapping = aes(x = n, y = species)) +\n",
    "    geom_col() +\n",
    "    facet_wrap(~island, ncol = 3)"
   ]
  },
  {
   "cell_type": "markdown",
   "id": "f26fc608-2e43-4148-bad1-343d44c639f9",
   "metadata": {},
   "source": [
    "**In which islands were *Adelie* penguins observed?** Answer using a [markdown list](https://www.markdownguide.org/basic-syntax/#lists-1) in the cell below. \n",
    "\n",
    "⚠️ Remember to switch the cell type to `Markdown`."
   ]
  },
  {
   "cell_type": "markdown",
   "id": "d0ffcb0f-fe4f-43e0-b324-8e969b8bf887",
   "metadata": {},
   "source": [
    "Adelie penguins were observed in the islands, Biscoe, Dream, and Torgersen meaning Adelie penguins are on all three observed islands."
   ]
  },
  {
   "cell_type": "markdown",
   "id": "5b94df58-517e-461c-a73c-d5294320650f",
   "metadata": {},
   "source": [
    "### Scatter chart"
   ]
  },
  {
   "cell_type": "markdown",
   "id": "73843967-6908-45e4-bb6a-48803112a46f",
   "metadata": {},
   "source": [
    "Make a scatter chart of bill depth versus bill length. Color the points by penguin species. Add a `scale` modification to your chart to adjust the color palette (e.g. add `scale_color_brewer(palette = \"Set2\")`)."
   ]
  },
  {
   "cell_type": "code",
   "execution_count": 13,
   "id": "c0ad6a0e-b113-44b3-8fdc-4a034ec24872",
   "metadata": {},
   "outputs": [
    {
     "data": {
      "image/png": "[encoded data removed]",
      "text/plain": [
       "plot without title"
      ]
     },
     "metadata": {
      "image/png": {
       "height": 240,
       "width": 480
      }
     },
     "output_type": "display_data"
    }
   ],
   "source": [
    "options(repr.plot.width = 8, repr.plot.height = 4)\n",
    "ggplot(data = penguins, mapping = aes(x = bill_length_mm,\n",
    "                                     y = bill_depth_mm,\n",
    "                                     color = species, \n",
    "                                     shape = island)) +\n",
    "    geom_point(na.rm = TRUE, size = 2) +\n",
    "    scale_color_brewer(palette = 'Set2') "
   ]
  },
  {
   "cell_type": "markdown",
   "id": "40819f31-256f-480e-b698-e67fd97a1f37",
   "metadata": {},
   "source": [
    "### Histogram"
   ]
  },
  {
   "cell_type": "markdown",
   "id": "fdcf1e1b-1a5b-40e6-9a2b-8294dc7c6c51",
   "metadata": {},
   "source": [
    "Make a histogram of penguin body mass. \n",
    "- Facet your chart by the `sex` column using the `facet_wrap` function and setting the `ncol` parameter to `1`.\n",
    "- In your `geom_histogram` layer, set the `position` argument to `\"identity\"` and set `alpha`to a value between `0` and `1`.\n",
    "- Map penguin species to the `fill` property.\n",
    "- Adjust the `fill` scale palette similarly to how we adjusted the `color` scale palette above. I.e. change to the [ColorBrewer](https://colorbrewer2.org/) `\"Set2\"` palette."
   ]
  },
  {
   "cell_type": "code",
   "execution_count": 68,
   "id": "c433f569-33c9-4db1-936a-501e32a02f76",
   "metadata": {},
   "outputs": [
    {
     "name": "stderr",
     "output_type": "stream",
     "text": [
      "\u001b[1m\u001b[22m`stat_bin()` using `bins = 30`. Pick better value with `binwidth`.\n",
      "Warning message:\n",
      "\"\u001b[1m\u001b[22mRemoved 2 rows containing non-finite values (`stat_bin()`).\"\n"
     ]
    },
    {
     "data": {
      "image/png": "[encoded data removed]",
      "text/plain": [
       "plot without title"
      ]
     },
     "metadata": {
      "image/png": {
       "height": 480,
       "width": 540
      }
     },
     "output_type": "display_data"
    }
   ],
   "source": [
    "options(repr.plot.width = 9, repr.plot.height = 8)\n",
    "\n",
    "\n",
    "ggplot(penguins, aes(x = body_mass_g, fill = species)) +\n",
    "    geom_histogram(position = \"identity\", alpha = 0.5) +\n",
    "    facet_wrap(~sex, ncol = 1) +\n",
    "    scale_fill_brewer(palette = \"Set2\", name = \"species\") \n"
   ]
  },
  {
   "cell_type": "markdown",
   "id": "854017b3-f7ad-4f2d-a325-f1f4a49795ad",
   "metadata": {},
   "source": [
    "What happens when you don't have `position = \"identity\"` in your `geom_histogram` layer? Answer below in a `Markdown` cell."
   ]
  },
  {
   "cell_type": "markdown",
   "id": "43fb30c9-0362-4ece-a18f-6f6552912138",
   "metadata": {},
   "source": [
    "From testing it personally, I noticed few visual differences but the positioning was different. I think the positioning being different with the position = \"identity\" overlaps the data at approximately accurate postions allowing us to compare data points individually. Regarding the time without position = \"identity\", I noticed lack of the overlapping transparent bars which changes the color."
   ]
  },
  {
   "cell_type": "markdown",
   "id": "a8051b80-c2bf-4dcc-a5aa-4f2b1f27d417",
   "metadata": {},
   "source": [
    "## Data wrangling"
   ]
  },
  {
   "cell_type": "markdown",
   "id": "4f29afa6-9168-4227-8301-283f4080117c",
   "metadata": {},
   "source": [
    "First we are going to bring in a data set to practice with called `txhousing`. You can find some information about `txhousing` [here](https://ggplot2.tidyverse.org/reference/txhousing.html)."
   ]
  },
  {
   "cell_type": "code",
   "execution_count": 70,
   "id": "579bef17-cd8c-4c8d-a4a1-f1850bf3a142",
   "metadata": {},
   "outputs": [
    {
     "name": "stdout",
     "output_type": "stream",
     "text": [
      "Rows: 8,602\n",
      "Columns: 9\n",
      "$ city      \u001b[3m\u001b[90m<chr>\u001b[39m\u001b[23m \"Abilene\", \"Abilene\", \"Abilene\", \"Abilene\", \"Abilene\", \"Abil~\n",
      "$ year      \u001b[3m\u001b[90m<int>\u001b[39m\u001b[23m 2000, 2000, 2000, 2000, 2000, 2000, 2000, 2000, 2000, 2000, ~\n",
      "$ month     \u001b[3m\u001b[90m<int>\u001b[39m\u001b[23m 1, 2, 3, 4, 5, 6, 7, 8, 9, 10, 11, 12, 1, 2, 3, 4, 5, 6, 7, ~\n",
      "$ sales     \u001b[3m\u001b[90m<dbl>\u001b[39m\u001b[23m 72, 98, 130, 98, 141, 156, 152, 131, 104, 101, 100, 92, 75, ~\n",
      "$ volume    \u001b[3m\u001b[90m<dbl>\u001b[39m\u001b[23m 5380000, 6505000, 9285000, 9730000, 10590000, 13910000, 1263~\n",
      "$ median    \u001b[3m\u001b[90m<dbl>\u001b[39m\u001b[23m 71400, 58700, 58100, 68600, 67300, 66900, 73500, 75000, 6450~\n",
      "$ listings  \u001b[3m\u001b[90m<dbl>\u001b[39m\u001b[23m 701, 746, 784, 785, 794, 780, 742, 765, 771, 764, 721, 658, ~\n",
      "$ inventory \u001b[3m\u001b[90m<dbl>\u001b[39m\u001b[23m 6.3, 6.6, 6.8, 6.9, 6.8, 6.6, 6.2, 6.4, 6.5, 6.6, 6.2, 5.7, ~\n",
      "$ date      \u001b[3m\u001b[90m<dbl>\u001b[39m\u001b[23m 2000.000, 2000.083, 2000.167, 2000.250, 2000.333, 2000.417, ~\n"
     ]
    }
   ],
   "source": [
    "# uncomment the next two lines and execute this cell\n",
    "data(txhousing)\n",
    "glimpse(txhousing)"
   ]
  },
  {
   "cell_type": "markdown",
   "id": "14886b6e-aeb2-41c7-ba8c-e8a56cec6ac5",
   "metadata": {},
   "source": [
    "Write a code chunk to remove the inventory variable. Save the results in a data frame called `txhousing`. Use `glimpse` or `head` to confirm you have removed the variable."
   ]
  },
  {
   "cell_type": "code",
   "execution_count": 88,
   "id": "f98fd4d1-1d20-410f-abc8-4e84f69e4fe9",
   "metadata": {},
   "outputs": [
    {
     "name": "stdout",
     "output_type": "stream",
     "text": [
      "Rows: 8,602\n",
      "Columns: 8\n",
      "$ city     \u001b[3m\u001b[90m<chr>\u001b[39m\u001b[23m \"Abilene\", \"Abilene\", \"Abilene\", \"Abilene\", \"Abilene\", \"Abile~\n",
      "$ year     \u001b[3m\u001b[90m<int>\u001b[39m\u001b[23m 2000, 2000, 2000, 2000, 2000, 2000, 2000, 2000, 2000, 2000, 2~\n",
      "$ month    \u001b[3m\u001b[90m<int>\u001b[39m\u001b[23m 1, 2, 3, 4, 5, 6, 7, 8, 9, 10, 11, 12, 1, 2, 3, 4, 5, 6, 7, 8~\n",
      "$ sales    \u001b[3m\u001b[90m<dbl>\u001b[39m\u001b[23m 72, 98, 130, 98, 141, 156, 152, 131, 104, 101, 100, 92, 75, 1~\n",
      "$ volume   \u001b[3m\u001b[90m<dbl>\u001b[39m\u001b[23m 5380000, 6505000, 9285000, 9730000, 10590000, 13910000, 12635~\n",
      "$ median   \u001b[3m\u001b[90m<dbl>\u001b[39m\u001b[23m 71400, 58700, 58100, 68600, 67300, 66900, 73500, 75000, 64500~\n",
      "$ listings \u001b[3m\u001b[90m<dbl>\u001b[39m\u001b[23m 701, 746, 784, 785, 794, 780, 742, 765, 771, 764, 721, 658, 7~\n",
      "$ date     \u001b[3m\u001b[90m<dbl>\u001b[39m\u001b[23m 2000.000, 2000.083, 2000.167, 2000.250, 2000.333, 2000.417, 2~\n"
     ]
    }
   ],
   "source": [
    "txhousing <- txhousing[, !names(txhousing) %in% \"inventory\"]\n",
    "\n",
    "glimpse(txhousing)"
   ]
  },
  {
   "cell_type": "markdown",
   "id": "505f7765-d874-4708-936b-1e74a8cb8703",
   "metadata": {},
   "source": [
    "Make a data set called `dallas_sub` that includes data only from the city of Dallas in 2012 & 2013."
   ]
  },
  {
   "cell_type": "code",
   "execution_count": 93,
   "id": "ab7cb735-71da-4b82-b79c-e91ce9b53e2f",
   "metadata": {},
   "outputs": [
    {
     "data": {
      "text/html": [
       "<table class=\"dataframe\">\n",
       "<caption>A tibble: 6 × 8</caption>\n",
       "<thead>\n",
       "\t<tr><th scope=col>city</th><th scope=col>year</th><th scope=col>month</th><th scope=col>sales</th><th scope=col>volume</th><th scope=col>median</th><th scope=col>listings</th><th scope=col>date</th></tr>\n",
       "\t<tr><th scope=col>&lt;chr&gt;</th><th scope=col>&lt;int&gt;</th><th scope=col>&lt;int&gt;</th><th scope=col>&lt;dbl&gt;</th><th scope=col>&lt;dbl&gt;</th><th scope=col>&lt;dbl&gt;</th><th scope=col>&lt;dbl&gt;</th><th scope=col>&lt;dbl&gt;</th></tr>\n",
       "</thead>\n",
       "<tbody>\n",
       "\t<tr><td>Dallas</td><td>2012</td><td>1</td><td>2555</td><td> 509458081</td><td>150800</td><td>16721</td><td>2012.000</td></tr>\n",
       "\t<tr><td>Dallas</td><td>2012</td><td>2</td><td>3085</td><td> 634067291</td><td>157100</td><td>17173</td><td>2012.083</td></tr>\n",
       "\t<tr><td>Dallas</td><td>2012</td><td>3</td><td>4068</td><td> 898320563</td><td>167300</td><td>17433</td><td>2012.167</td></tr>\n",
       "\t<tr><td>Dallas</td><td>2012</td><td>4</td><td>4291</td><td> 983333297</td><td>168700</td><td>17632</td><td>2012.250</td></tr>\n",
       "\t<tr><td>Dallas</td><td>2012</td><td>5</td><td>5004</td><td>1175419749</td><td>175100</td><td>17726</td><td>2012.333</td></tr>\n",
       "\t<tr><td>Dallas</td><td>2012</td><td>6</td><td>5196</td><td>1209024869</td><td>177900</td><td>17587</td><td>2012.417</td></tr>\n",
       "</tbody>\n",
       "</table>\n"
      ],
      "text/latex": [
       "A tibble: 6 × 8\n",
       "\\begin{tabular}{llllllll}\n",
       " city & year & month & sales & volume & median & listings & date\\\\\n",
       " <chr> & <int> & <int> & <dbl> & <dbl> & <dbl> & <dbl> & <dbl>\\\\\n",
       "\\hline\n",
       "\t Dallas & 2012 & 1 & 2555 &  509458081 & 150800 & 16721 & 2012.000\\\\\n",
       "\t Dallas & 2012 & 2 & 3085 &  634067291 & 157100 & 17173 & 2012.083\\\\\n",
       "\t Dallas & 2012 & 3 & 4068 &  898320563 & 167300 & 17433 & 2012.167\\\\\n",
       "\t Dallas & 2012 & 4 & 4291 &  983333297 & 168700 & 17632 & 2012.250\\\\\n",
       "\t Dallas & 2012 & 5 & 5004 & 1175419749 & 175100 & 17726 & 2012.333\\\\\n",
       "\t Dallas & 2012 & 6 & 5196 & 1209024869 & 177900 & 17587 & 2012.417\\\\\n",
       "\\end{tabular}\n"
      ],
      "text/markdown": [
       "\n",
       "A tibble: 6 × 8\n",
       "\n",
       "| city &lt;chr&gt; | year &lt;int&gt; | month &lt;int&gt; | sales &lt;dbl&gt; | volume &lt;dbl&gt; | median &lt;dbl&gt; | listings &lt;dbl&gt; | date &lt;dbl&gt; |\n",
       "|---|---|---|---|---|---|---|---|\n",
       "| Dallas | 2012 | 1 | 2555 |  509458081 | 150800 | 16721 | 2012.000 |\n",
       "| Dallas | 2012 | 2 | 3085 |  634067291 | 157100 | 17173 | 2012.083 |\n",
       "| Dallas | 2012 | 3 | 4068 |  898320563 | 167300 | 17433 | 2012.167 |\n",
       "| Dallas | 2012 | 4 | 4291 |  983333297 | 168700 | 17632 | 2012.250 |\n",
       "| Dallas | 2012 | 5 | 5004 | 1175419749 | 175100 | 17726 | 2012.333 |\n",
       "| Dallas | 2012 | 6 | 5196 | 1209024869 | 177900 | 17587 | 2012.417 |\n",
       "\n"
      ],
      "text/plain": [
       "  city   year month sales volume     median listings date    \n",
       "1 Dallas 2012 1     2555   509458081 150800 16721    2012.000\n",
       "2 Dallas 2012 2     3085   634067291 157100 17173    2012.083\n",
       "3 Dallas 2012 3     4068   898320563 167300 17433    2012.167\n",
       "4 Dallas 2012 4     4291   983333297 168700 17632    2012.250\n",
       "5 Dallas 2012 5     5004  1175419749 175100 17726    2012.333\n",
       "6 Dallas 2012 6     5196  1209024869 177900 17587    2012.417"
      ]
     },
     "metadata": {},
     "output_type": "display_data"
    }
   ],
   "source": [
    "dallas_sub <- txhousing[txhousing$city == \"Dallas\" & txhousing$year %in% c(2012, 2013), ]\n",
    "\n",
    "head(dallas_sub)"
   ]
  },
  {
   "cell_type": "markdown",
   "id": "0caba233-423e-4101-8cf5-5a2da31627b8",
   "metadata": {},
   "source": [
    "Add a column to the `dallas_sub` data set called `prct_sold` that calculates the percentage of listings that were sold (`sales/listings * 100`). Be sure to save the results also as a data frame called `dallas_sub`."
   ]
  },
  {
   "cell_type": "code",
   "execution_count": 95,
   "id": "050843a7-1f70-4354-b88a-d00b6c0a81b3",
   "metadata": {},
   "outputs": [
    {
     "data": {
      "text/html": [
       "<table class=\"dataframe\">\n",
       "<caption>A tibble: 6 × 9</caption>\n",
       "<thead>\n",
       "\t<tr><th scope=col>city</th><th scope=col>year</th><th scope=col>month</th><th scope=col>sales</th><th scope=col>volume</th><th scope=col>median</th><th scope=col>listings</th><th scope=col>date</th><th scope=col>prct_sold</th></tr>\n",
       "\t<tr><th scope=col>&lt;chr&gt;</th><th scope=col>&lt;int&gt;</th><th scope=col>&lt;int&gt;</th><th scope=col>&lt;dbl&gt;</th><th scope=col>&lt;dbl&gt;</th><th scope=col>&lt;dbl&gt;</th><th scope=col>&lt;dbl&gt;</th><th scope=col>&lt;dbl&gt;</th><th scope=col>&lt;dbl&gt;</th></tr>\n",
       "</thead>\n",
       "<tbody>\n",
       "\t<tr><td>Dallas</td><td>2012</td><td>1</td><td>2555</td><td> 509458081</td><td>150800</td><td>16721</td><td>2012.000</td><td>15.28019</td></tr>\n",
       "\t<tr><td>Dallas</td><td>2012</td><td>2</td><td>3085</td><td> 634067291</td><td>157100</td><td>17173</td><td>2012.083</td><td>17.96425</td></tr>\n",
       "\t<tr><td>Dallas</td><td>2012</td><td>3</td><td>4068</td><td> 898320563</td><td>167300</td><td>17433</td><td>2012.167</td><td>23.33505</td></tr>\n",
       "\t<tr><td>Dallas</td><td>2012</td><td>4</td><td>4291</td><td> 983333297</td><td>168700</td><td>17632</td><td>2012.250</td><td>24.33643</td></tr>\n",
       "\t<tr><td>Dallas</td><td>2012</td><td>5</td><td>5004</td><td>1175419749</td><td>175100</td><td>17726</td><td>2012.333</td><td>28.22972</td></tr>\n",
       "\t<tr><td>Dallas</td><td>2012</td><td>6</td><td>5196</td><td>1209024869</td><td>177900</td><td>17587</td><td>2012.417</td><td>29.54455</td></tr>\n",
       "</tbody>\n",
       "</table>\n"
      ],
      "text/latex": [
       "A tibble: 6 × 9\n",
       "\\begin{tabular}{lllllllll}\n",
       " city & year & month & sales & volume & median & listings & date & prct\\_sold\\\\\n",
       " <chr> & <int> & <int> & <dbl> & <dbl> & <dbl> & <dbl> & <dbl> & <dbl>\\\\\n",
       "\\hline\n",
       "\t Dallas & 2012 & 1 & 2555 &  509458081 & 150800 & 16721 & 2012.000 & 15.28019\\\\\n",
       "\t Dallas & 2012 & 2 & 3085 &  634067291 & 157100 & 17173 & 2012.083 & 17.96425\\\\\n",
       "\t Dallas & 2012 & 3 & 4068 &  898320563 & 167300 & 17433 & 2012.167 & 23.33505\\\\\n",
       "\t Dallas & 2012 & 4 & 4291 &  983333297 & 168700 & 17632 & 2012.250 & 24.33643\\\\\n",
       "\t Dallas & 2012 & 5 & 5004 & 1175419749 & 175100 & 17726 & 2012.333 & 28.22972\\\\\n",
       "\t Dallas & 2012 & 6 & 5196 & 1209024869 & 177900 & 17587 & 2012.417 & 29.54455\\\\\n",
       "\\end{tabular}\n"
      ],
      "text/markdown": [
       "\n",
       "A tibble: 6 × 9\n",
       "\n",
       "| city &lt;chr&gt; | year &lt;int&gt; | month &lt;int&gt; | sales &lt;dbl&gt; | volume &lt;dbl&gt; | median &lt;dbl&gt; | listings &lt;dbl&gt; | date &lt;dbl&gt; | prct_sold &lt;dbl&gt; |\n",
       "|---|---|---|---|---|---|---|---|---|\n",
       "| Dallas | 2012 | 1 | 2555 |  509458081 | 150800 | 16721 | 2012.000 | 15.28019 |\n",
       "| Dallas | 2012 | 2 | 3085 |  634067291 | 157100 | 17173 | 2012.083 | 17.96425 |\n",
       "| Dallas | 2012 | 3 | 4068 |  898320563 | 167300 | 17433 | 2012.167 | 23.33505 |\n",
       "| Dallas | 2012 | 4 | 4291 |  983333297 | 168700 | 17632 | 2012.250 | 24.33643 |\n",
       "| Dallas | 2012 | 5 | 5004 | 1175419749 | 175100 | 17726 | 2012.333 | 28.22972 |\n",
       "| Dallas | 2012 | 6 | 5196 | 1209024869 | 177900 | 17587 | 2012.417 | 29.54455 |\n",
       "\n"
      ],
      "text/plain": [
       "  city   year month sales volume     median listings date     prct_sold\n",
       "1 Dallas 2012 1     2555   509458081 150800 16721    2012.000 15.28019 \n",
       "2 Dallas 2012 2     3085   634067291 157100 17173    2012.083 17.96425 \n",
       "3 Dallas 2012 3     4068   898320563 167300 17433    2012.167 23.33505 \n",
       "4 Dallas 2012 4     4291   983333297 168700 17632    2012.250 24.33643 \n",
       "5 Dallas 2012 5     5004  1175419749 175100 17726    2012.333 28.22972 \n",
       "6 Dallas 2012 6     5196  1209024869 177900 17587    2012.417 29.54455 "
      ]
     },
     "metadata": {},
     "output_type": "display_data"
    }
   ],
   "source": [
    "dallas_sub <- dallas_sub %>%\n",
    "    mutate(prct_sold = (sales/listings)*100)\n",
    "\n",
    "head(dallas_sub)"
   ]
  },
  {
   "cell_type": "markdown",
   "id": "200cee5a-8921-423a-8c60-164f839816aa",
   "metadata": {},
   "source": [
    "Calculate the average percentage of listings that were sold in Dallas in each month of the year based on your `dallas_sub` data set. Save the results of the calculation in an data frame called `dallas_summary`."
   ]
  },
  {
   "cell_type": "code",
   "execution_count": 109,
   "id": "d16924b4-378d-46a0-b00b-e86633fc48a2",
   "metadata": {},
   "outputs": [
    {
     "name": "stdout",
     "output_type": "stream",
     "text": [
      "\u001b[90m# A tibble: 12 x 2\u001b[39m\n",
      "   month avg_pct_sold\n",
      "   \u001b[3m\u001b[90m<int>\u001b[39m\u001b[23m        \u001b[3m\u001b[90m<dbl>\u001b[39m\u001b[23m\n",
      "\u001b[90m 1\u001b[39m     1         19.8\n",
      "\u001b[90m 2\u001b[39m     2         22.6\n",
      "\u001b[90m 3\u001b[39m     3         30.7\n",
      "\u001b[90m 4\u001b[39m     4         32.7\n",
      "\u001b[90m 5\u001b[39m     5         36.6\n",
      "\u001b[90m 6\u001b[39m     6         36.1\n",
      "\u001b[90m 7\u001b[39m     7         36.1\n",
      "\u001b[90m 8\u001b[39m     8         37.9\n",
      "\u001b[90m 9\u001b[39m     9         31.2\n",
      "\u001b[90m10\u001b[39m    10         31.8\n",
      "\u001b[90m11\u001b[39m    11         30.4\n",
      "\u001b[90m12\u001b[39m    12         35.1\n"
     ]
    }
   ],
   "source": [
    "dallas_summary <- dallas_sub %>%\n",
    "    group_by(month) %>%\n",
    "    summarize(\n",
    "    avg_sales = mean(sales, na.rm = TRUE),\n",
    "    avg_listings = mean(listings, na.rm = TRUE),\n",
    "    avg_pct_sold = (avg_sales / avg_listings) * 100,\n",
    "    ) %>%\n",
    "    select(month, avg_pct_sold)\n",
    "\n",
    "print(dallas_summary)"
   ]
  },
  {
   "cell_type": "markdown",
   "id": "52f92165-6346-46af-851f-b3510df8227d",
   "metadata": {},
   "source": [
    "Use `slice_max` to see the top 3 months with the greatest average percentage of listings sold from `dallas_summary`. You do not need to save the results."
   ]
  },
  {
   "cell_type": "code",
   "execution_count": 111,
   "id": "3cdadffb-5190-4d0c-80e9-d8ee7e17cfd7",
   "metadata": {},
   "outputs": [
    {
     "data": {
      "text/html": [
       "<table class=\"dataframe\">\n",
       "<caption>A tibble: 3 × 2</caption>\n",
       "<thead>\n",
       "\t<tr><th scope=col>month</th><th scope=col>avg_pct_sold</th></tr>\n",
       "\t<tr><th scope=col>&lt;int&gt;</th><th scope=col>&lt;dbl&gt;</th></tr>\n",
       "</thead>\n",
       "<tbody>\n",
       "\t<tr><td>8</td><td>37.85844</td></tr>\n",
       "\t<tr><td>5</td><td>36.58680</td></tr>\n",
       "\t<tr><td>6</td><td>36.14111</td></tr>\n",
       "</tbody>\n",
       "</table>\n"
      ],
      "text/latex": [
       "A tibble: 3 × 2\n",
       "\\begin{tabular}{ll}\n",
       " month & avg\\_pct\\_sold\\\\\n",
       " <int> & <dbl>\\\\\n",
       "\\hline\n",
       "\t 8 & 37.85844\\\\\n",
       "\t 5 & 36.58680\\\\\n",
       "\t 6 & 36.14111\\\\\n",
       "\\end{tabular}\n"
      ],
      "text/markdown": [
       "\n",
       "A tibble: 3 × 2\n",
       "\n",
       "| month &lt;int&gt; | avg_pct_sold &lt;dbl&gt; |\n",
       "|---|---|\n",
       "| 8 | 37.85844 |\n",
       "| 5 | 36.58680 |\n",
       "| 6 | 36.14111 |\n",
       "\n"
      ],
      "text/plain": [
       "  month avg_pct_sold\n",
       "1 8     37.85844    \n",
       "2 5     36.58680    \n",
       "3 6     36.14111    "
      ]
     },
     "metadata": {},
     "output_type": "display_data"
    }
   ],
   "source": [
    "dallas_summary %>% \n",
    "  slice_max(avg_pct_sold, n = 3)"
   ]
  },
  {
   "cell_type": "markdown",
   "id": "61cad110-7858-4245-a8fd-de9a1e6b5dbc",
   "metadata": {},
   "source": [
    "Run the following code chunk. Study the code, and the output. Explain in your own words what this code chunk calculated."
   ]
  },
  {
   "cell_type": "code",
   "execution_count": 113,
   "id": "2d983e66-c2ff-4964-a5a5-442646aeaa46",
   "metadata": {},
   "outputs": [
    {
     "data": {
      "text/html": [
       "<table class=\"dataframe\">\n",
       "<caption>A tibble: 3 × 2</caption>\n",
       "<thead>\n",
       "\t<tr><th scope=col>month</th><th scope=col>mean_prct_sold</th></tr>\n",
       "\t<tr><th scope=col>&lt;int&gt;</th><th scope=col>&lt;dbl&gt;</th></tr>\n",
       "</thead>\n",
       "<tbody>\n",
       "\t<tr><td>8</td><td>38.51543</td></tr>\n",
       "\t<tr><td>5</td><td>38.20168</td></tr>\n",
       "\t<tr><td>6</td><td>37.19150</td></tr>\n",
       "</tbody>\n",
       "</table>\n"
      ],
      "text/latex": [
       "A tibble: 3 × 2\n",
       "\\begin{tabular}{ll}\n",
       " month & mean\\_prct\\_sold\\\\\n",
       " <int> & <dbl>\\\\\n",
       "\\hline\n",
       "\t 8 & 38.51543\\\\\n",
       "\t 5 & 38.20168\\\\\n",
       "\t 6 & 37.19150\\\\\n",
       "\\end{tabular}\n"
      ],
      "text/markdown": [
       "\n",
       "A tibble: 3 × 2\n",
       "\n",
       "| month &lt;int&gt; | mean_prct_sold &lt;dbl&gt; |\n",
       "|---|---|\n",
       "| 8 | 38.51543 |\n",
       "| 5 | 38.20168 |\n",
       "| 6 | 37.19150 |\n",
       "\n"
      ],
      "text/plain": [
       "  month mean_prct_sold\n",
       "1 8     38.51543      \n",
       "2 5     38.20168      \n",
       "3 6     37.19150      "
      ]
     },
     "metadata": {},
     "output_type": "display_data"
    }
   ],
   "source": [
    " txhousing |>\n",
    "   filter(year == 2012 | year == 2013, city == \"Dallas\") |>\n",
    "   mutate(prct_sold = sales/listings *100) |>\n",
    "   group_by(month) |>\n",
    "   summarize(mean_prct_sold = mean(prct_sold)) |>\n",
    "   slice_max(mean_prct_sold, n = 3)"
   ]
  },
  {
   "cell_type": "markdown",
   "id": "1bf9641e-59af-46b0-948c-4d6c7d2e7b2b",
   "metadata": {},
   "source": [
    "From my earlier approach, it seems to have done what I did in a few simple lines with key differences being that this did the average of percentages instead of the percentage of averages. \n",
    "Breaking it down line by line:\n",
    "\n",
    "You filtered out the years that were not either 2012 or 2013. You then specified that the city has to be Dallas. \n",
    "\n",
    "You then used mutate to add a new column which housed the percentage of sales divided by listings. You then grouped by the month.\n",
    "\n",
    "After the groupings, it was then summarized by saying that the average of the percent sold was the mean.\n",
    "\n",
    "The slice max function just shows the top three greatest mean_prct_sold's. "
   ]
  },
  {
   "cell_type": "code",
   "execution_count": null,
   "id": "98947406-794c-41ba-b4c8-3e26e7d1e677",
   "metadata": {},
   "outputs": [],
   "source": []
  },
  {
   "cell_type": "code",
   "execution_count": null,
   "id": "73918fd1-0773-4fe4-8e10-b0e5c8f60405",
   "metadata": {},
   "outputs": [],
   "source": []
  }
 ],
 "metadata": {
  "kernelspec": {
   "display_name": "R [conda env:base] *",
   "language": "R",
   "name": "conda-base-r"
  },
  "language_info": {
   "codemirror_mode": "r",
   "file_extension": ".r",
   "mimetype": "text/x-r-source",
   "name": "R",
   "pygments_lexer": "r",
   "version": "4.1.3"
  }
 },
 "nbformat": 4,
 "nbformat_minor": 5
}
